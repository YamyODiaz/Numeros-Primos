{
 "cells": [
  {
   "cell_type": "code",
   "execution_count": 12,
   "id": "c16ff5c1-dbbd-499e-8e21-af8228adc9f0",
   "metadata": {},
   "outputs": [
    {
     "data": {
      "text/plain": [
       "'Numeros Primos'"
      ]
     },
     "execution_count": 12,
     "metadata": {},
     "output_type": "execute_result"
    }
   ],
   "source": [
    "(\"Numeros Primos\")#AutorYamiletOrta"
   ]
  },
  {
   "cell_type": "code",
   "execution_count": 17,
   "id": "09197150-5655-4bcc-943b-f2f40a7b2a01",
   "metadata": {},
   "outputs": [
    {
     "name": "stdin",
     "output_type": "stream",
     "text": [
      "Ingrese un numero primo:  13\n"
     ]
    }
   ],
   "source": [
    "num = int(input(\"Ingrese un numero primo: \"))"
   ]
  },
  {
   "cell_type": "code",
   "execution_count": 18,
   "id": "1365dfb6-3a31-47cd-8bfa-e5ef6546991b",
   "metadata": {},
   "outputs": [
    {
     "name": "stdout",
     "output_type": "stream",
     "text": [
      "True\n"
     ]
    }
   ],
   "source": [
    "def primo(num):\n",
    " if num < 2: \n",
    "   return False\n",
    " for i in range(2, num): \n",
    "   if num % i == 0: \n",
    "    return False\n",
    " return True \n",
    "print(primo(num))"
   ]
  },
  {
   "cell_type": "code",
   "execution_count": 19,
   "id": "6a5ab3fa-5969-4143-9c31-0f7b229eaecb",
   "metadata": {},
   "outputs": [
    {
     "name": "stdout",
     "output_type": "stream",
     "text": [
      "13\n"
     ]
    }
   ],
   "source": [
    "print(num)\n"
   ]
  },
  {
   "cell_type": "code",
   "execution_count": 20,
   "id": "f765eae9-18e5-4a19-82e9-1ddf0fa6d342",
   "metadata": {},
   "outputs": [
    {
     "name": "stdout",
     "output_type": "stream",
     "text": [
      "Numeros primos:\n",
      "13,13,17,19,23,29,31,37,41,43,47,53,59,61,67,71,73,79,83,89,97,101,103,107,109,113,127,131,137,139,149,"
     ]
    }
   ],
   "source": [
    "print(\"Numeros primos:\")\n",
    "print(num, end = ',')\n",
    "for i in range(num,150,2):\n",
    " for j in range(3,int(i**.5)+1,2):\n",
    "  if i%j==0: break\n",
    " else: print(i, end = ',')"
   ]
  },
  {
   "cell_type": "code",
   "execution_count": null,
   "id": "a512f5e7-fc60-441f-97d2-7f25acfb5f56",
   "metadata": {},
   "outputs": [],
   "source": []
  }
 ],
 "metadata": {
  "kernelspec": {
   "display_name": "Python 3 (ipykernel)",
   "language": "python",
   "name": "python3"
  },
  "language_info": {
   "codemirror_mode": {
    "name": "ipython",
    "version": 3
   },
   "file_extension": ".py",
   "mimetype": "text/x-python",
   "name": "python",
   "nbconvert_exporter": "python",
   "pygments_lexer": "ipython3",
   "version": "3.9.6"
  }
 },
 "nbformat": 4,
 "nbformat_minor": 5
}
